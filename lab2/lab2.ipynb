{
  "cells": [
    {
      "cell_type": "code",
      "execution_count": 1,
      "metadata": {},
      "outputs": [
        {
          "name": "stdout",
          "output_type": "stream",
          "text": [
            "Archive:  mnist.zip\n",
            "  inflating: mnist_train.csv         "
          ]
        },
        {
          "name": "stdout",
          "output_type": "stream",
          "text": [
            "\n",
            "  inflating: mnist_test.csv          \n"
          ]
        }
      ],
      "source": [
        "!unzip mnist.zip"
      ]
    },
    {
      "cell_type": "code",
      "execution_count": 2,
      "metadata": {
        "colab": {
          "base_uri": "https://localhost:8080/"
        },
        "id": "OTrDQlVHTTut",
        "outputId": "4de4ab5f-e627-47cd-a289-1099d038e4d6"
      },
      "outputs": [],
      "source": [
        "!pip install -q numpy matplotlib pandas"
      ]
    },
    {
      "cell_type": "code",
      "execution_count": 3,
      "metadata": {
        "id": "7nV6uNb8GkkV"
      },
      "outputs": [],
      "source": [
        "import numpy as np\n",
        "import matplotlib.pyplot as plt\n",
        "\n",
        "class Perceptron:\n",
        "     # Inicjalizator, ustawiający atrybut self.w oraz self.b jako wektor losowych wag, n ilość sygnałów wejściowych (bias)\n",
        "    def __init__(self, n, bias=True):\n",
        "        self.w = np.random.rand(n)\n",
        "        self.b = 1.0 if bias else 0.0\n",
        "\n",
        "    # Metoda obliczająca odpowiedz modelu dla zadanego sygnału wejściowego x=[x1,x2,...,xN]\n",
        "    def predict(self, x):\n",
        "        activation = np.dot(self.w, x) + self.b\n",
        "        return 1 if activation >= 0 else 0\n",
        "\n",
        "    # Metoda uczenia według reguły perceptronu, xx - zbiór danych uczących, d - odpowiedzi,\n",
        "    # eta - współczynnik uczenia,\n",
        "    # tol - tolerancja (czyli jak duży błąd jesteśmy w stanie zaakceptować)\n",
        "    def train(self, xx, d, eta, tol) -> list:\n",
        "        errors_for_epoch = []\n",
        "        t = 0\n",
        "        while True:\n",
        "            errors = 0\n",
        "            for x, desired in zip(xx, d):\n",
        "                prediction = self.predict(x)\n",
        "\n",
        "\n",
        "                if prediction != desired:\n",
        "                    error = desired - prediction\n",
        "\n",
        "                    if prediction == 0 and desired == 1:\n",
        "                        self.w += eta * np.array(x)\n",
        "                        self.b += eta\n",
        "                    elif prediction == 1 and desired == 0:\n",
        "                        self.w -= eta * np.array(x)\n",
        "                        self.b -= eta\n",
        "\n",
        "                    errors += 1\n",
        "            if errors <= tol:\n",
        "                break\n",
        "\n",
        "            t += 1\n",
        "            errors_for_epoch.append(errors)\n",
        "        plt.plot(errors_for_epoch)\n",
        "        plt.show()\n",
        "        print(f\"Algorytm zatrzymał się po {t} epokach\")\n",
        "\n",
        "\n",
        "    # Metoda obliczająca błąd dla danych testowych xx\n",
        "    # zwraca błąd oraz wektor odpowiedzi perceptronu dla danych testowych\n",
        "    def evaluate_test(self, xx, d):\n",
        "        errors = 0\n",
        "        predictions = []\n",
        "        for x, desired in zip(xx, d):\n",
        "            prediction = self.predict(x)\n",
        "            predictions.append(prediction)\n",
        "            errors += abs(desired - prediction)\n",
        "        return errors, predictions\n",
        "\n"
      ]
    },
    {
      "cell_type": "code",
      "execution_count": 4,
      "metadata": {
        "id": "0TbDLJzXTblp"
      },
      "outputs": [],
      "source": [
        "import pandas as pd\n",
        "import numpy as np\n",
        "test = pd.read_csv('mnist_test.csv', delimiter=',')\n",
        "train = pd.read_csv('mnist_train.csv', delimiter=',')\n",
        "\n",
        "#test.head(3)\n",
        "\n",
        "y_train = train.iloc[:, 0].values\n",
        "X_train = train.iloc[:, 1:].values\n",
        "\n",
        "y_test = test.iloc[:, 0].values\n",
        "X_test = test.iloc[:, 1:].values\n",
        "\n",
        "\n"
      ]
    },
    {
      "cell_type": "code",
      "execution_count": 5,
      "metadata": {
        "colab": {
          "base_uri": "https://localhost:8080/"
        },
        "id": "mOHHS0CkVz6s",
        "outputId": "79ab4095-0d3d-4f13-d5bd-b4fe796a978f"
      },
      "outputs": [],
      "source": [
        "# pick only 0 i 3\n",
        "train_03_idx = ((y_train == 3) | (y_train == 0))\n",
        "X_train_03 = X_train[train_03_idx]\n",
        "y_train_03 = y_train[train_03_idx]\n",
        "\n",
        "test_03_idx = ((y_test == 3) | (y_test == 0))\n",
        "X_test_03 = X_test[test_03_idx]\n",
        "y_test_03 = y_test[test_03_idx]\n",
        "\n",
        "# normalize data\n",
        "# change labels 0->0, 3->1\n",
        "y_train_03 = np.where(y_train_03 == 3, 1, 0)\n",
        "y_test_03 = np.where(y_test_03 == 3, 1, 0)\n",
        "\n",
        "# normalize color\n",
        "colour_depth = 255\n",
        "X_train = X_train / colour_depth\n",
        "X_test = X_test / colour_depth\n",
        "\n"
      ]
    },
    {
      "cell_type": "code",
      "execution_count": 6,
      "metadata": {
        "id": "78RVgIe7Zjac"
      },
      "outputs": [],
      "source": [
        "p = Perceptron(n=X_train_03.shape[1])"
      ]
    },
    {
      "cell_type": "code",
      "execution_count": 7,
      "metadata": {
        "colab": {
          "base_uri": "https://localhost:8080/",
          "height": 287
        },
        "id": "T3dNtsddcCr4",
        "outputId": "6ec093c7-4b31-4f3a-c038-b637c41d7095"
      },
      "outputs": [
        {
          "data": {
            "image/png": "[encoded data removed]",
            "text/plain": [
              "<Figure size 640x480 with 1 Axes>"
            ]
          },
          "metadata": {},
          "output_type": "display_data"
        },
        {
          "name": "stdout",
          "output_type": "stream",
          "text": [
            "Algorytm zatrzymał się po 101 epokach\n"
          ]
        }
      ],
      "source": [
        "p.train(X_train_03, y_train_03, 0.01, 0)"
      ]
    },
    {
      "cell_type": "code",
      "execution_count": 8,
      "metadata": {
        "id": "lVJKBq5udRGC"
      },
      "outputs": [],
      "source": [
        "errors, predictions = p.evaluate_test(X_test_03, y_test_03)"
      ]
    },
    {
      "cell_type": "code",
      "execution_count": 9,
      "metadata": {},
      "outputs": [],
      "source": [
        "!pip3 install -q -U scikit-learn\n",
        "!pip3 install -q seaborn"
      ]
    },
    {
      "cell_type": "code",
      "execution_count": 10,
      "metadata": {},
      "outputs": [
        {
          "data": {
            "image/png": "[encoded data removed]",
            "text/plain": [
              "<Figure size 600x500 with 2 Axes>"
            ]
          },
          "metadata": {},
          "output_type": "display_data"
        }
      ],
      "source": [
        "import sklearn.metrics as mt\n",
        "\n",
        "conf_matrix = mt.confusion_matrix(y_test_03, predictions)\n",
        "import seaborn as sns\n",
        "\n",
        "plt.figure(figsize=(6, 5))\n",
        "sns.heatmap(conf_matrix, annot=True, fmt=\"d\", cmap=\"coolwarm\")\n",
        "\n",
        "plt.xlabel('Predicted label')\n",
        "plt.ylabel('True label')\n",
        "plt.title(\"Confusion Matrix\")\n",
        "plt.show()\n"
      ]
    },
    {
      "cell_type": "code",
      "execution_count": 11,
      "metadata": {},
      "outputs": [
        {
          "name": "stdout",
          "output_type": "stream",
          "text": [
            "Accuracy: 0.993467\n",
            "Precision: 0.994054\n",
            "Recall: 0.993069\n",
            "F1 Score: 0.993561\n"
          ]
        }
      ],
      "source": [
        "accuracy_score = mt.accuracy_score(y_test_03, predictions)\n",
        "precision = mt.precision_score(y_test_03, predictions)\n",
        "recall = mt.recall_score(y_test_03, predictions)\n",
        "f1_score = mt.f1_score(y_test_03, predictions)\n",
        "\n",
        "print(f\"Accuracy: {accuracy_score:.6f}\")\n",
        "print(f\"Precision: {precision:.6f}\")\n",
        "print(f\"Recall: {recall:.6f}\")\n",
        "print(f\"F1 Score: {f1_score:.6f}\")"
      ]
    },
    {
      "cell_type": "code",
      "execution_count": 12,
      "metadata": {},
      "outputs": [],
      "source": [
        "from PIL import Image"
      ]
    },
    {
      "cell_type": "code",
      "execution_count": 13,
      "metadata": {},
      "outputs": [],
      "source": [
        "zero = np.array(Image.open('zero.jpg'))\n",
        "three = np.array(Image.open('trzy.jpg'))"
      ]
    },
    {
      "cell_type": "code",
      "execution_count": 14,
      "metadata": {},
      "outputs": [
        {
          "name": "stdout",
          "output_type": "stream",
          "text": [
            "7\n",
            "255\n",
            "(28, 28)\n",
            "0\n",
            "255\n",
            "(28, 28, 3)\n"
          ]
        }
      ],
      "source": [
        "#walidacja\n",
        "print(zero.min())\n",
        "print(zero.max())\n",
        "print(zero.shape)\n",
        "\n",
        "print(three.min())\n",
        "print(three.max())\n",
        "print(three.shape)"
      ]
    },
    {
      "cell_type": "code",
      "execution_count": 15,
      "metadata": {},
      "outputs": [],
      "source": [
        "three = three[:, :, 1].ravel()\n",
        "zero = zero.ravel()"
      ]
    },
    {
      "cell_type": "code",
      "execution_count": 16,
      "metadata": {},
      "outputs": [
        {
          "name": "stdout",
          "output_type": "stream",
          "text": [
            "udało się rozczytać 3!\n",
            "udało się rozczytać 0!\n"
          ]
        }
      ],
      "source": [
        "if p.predict(three) == 1:\n",
        "    print(\"udało się rozczytać 3!\")\n",
        "else:\n",
        "    print(\"Nie udało się rozczytać 3 :(\")\n",
        "\n",
        "if p.predict(zero) == 0:\n",
        "    print(\"udało się rozczytać 0!\")\n",
        "else:\n",
        "    print(\"Nie udało się rozczytać 0 :(\")"
      ]
    }
  ],
  "metadata": {
    "colab": {
      "provenance": []
    },
    "kernelspec": {
      "display_name": ".venv",
      "language": "python",
      "name": "python3"
    },
    "language_info": {
      "codemirror_mode": {
        "name": "ipython",
        "version": 3
      },
      "file_extension": ".py",
      "mimetype": "text/x-python",
      "name": "python",
      "nbconvert_exporter": "python",
      "pygments_lexer": "ipython3",
      "version": "3.12.8"
    }
  },
  "nbformat": 4,
  "nbformat_minor": 0
}
